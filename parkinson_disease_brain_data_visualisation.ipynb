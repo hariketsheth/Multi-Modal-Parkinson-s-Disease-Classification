{
  "cells": [
    {
      "cell_type": "markdown",
      "metadata": {
        "id": "rytJj1Y0mT0N"
      },
      "source": [
        "# Parkinson's disease Prediction (Brain Images)\n",
        "## Author: Hariket Sukesh Kumar Sheth (20BCE1975)\n",
        "## Course: Data Visualization (CSE3020)\n",
        "## Faculty: Dr. Joshan"
      ],
      "id": "rytJj1Y0mT0N"
    },
    {
      "cell_type": "code",
      "execution_count": null,
      "metadata": {
        "colab": {
          "base_uri": "https://localhost:8080/"
        },
        "id": "1WFyx7zt5IO-",
        "outputId": "472d3a4a-f145-4104-e89c-d208437ccf37"
      },
      "outputs": [
        {
          "name": "stdout",
          "output_type": "stream",
          "text": [
            "Mounted at /content/drive\n"
          ]
        }
      ],
      "source": [
        "from google.colab import drive\n",
        "drive.mount('/content/drive')"
      ],
      "id": "1WFyx7zt5IO-"
    },
    {
      "cell_type": "code",
      "execution_count": null,
      "metadata": {
        "id": "8665ffac"
      },
      "outputs": [],
      "source": [
        "from pathlib import Path\n",
        "import numpy as np\n",
        "import pandas as pd\n",
        "from sklearn import *\n",
        "\n",
        "import matplotlib.pyplot as plt\n",
        "from mpl_toolkits.axes_grid1 import ImageGrid\n",
        "from sklearn.utils import shuffle\n",
        "import cv2\n",
        "from tensorflow.keras.preprocessing import image\n",
        "from tensorflow.keras.applications import EfficientNetB3,EfficientNetB2,EfficientNetB1,EfficientNetB7,EfficientNetB0,Xception\n",
        "import tensorflow as tf\n",
        "from tensorflow.keras.callbacks import EarlyStopping, ReduceLROnPlateau, TensorBoard, ModelCheckpoint\n",
        "from tensorflow.keras.utils import to_categorical"
      ],
      "id": "8665ffac"
    },
    {
      "cell_type": "markdown",
      "metadata": {
        "id": "95ac16e7"
      },
      "source": [
        "__<h2>pathlib can easily extract your directory</h2>__\n",
        "\n",
        "* Make data frame columns:\n",
        "    + image_link\n",
        "    + image_Names\n",
        "    + image_Labels\n",
        "* Concat and make Dataframe:\n",
        "    + df1"
      ],
      "id": "95ac16e7"
    },
    {
      "cell_type": "code",
      "execution_count": null,
      "metadata": {
        "id": "470ce651"
      },
      "outputs": [],
      "source": [
        "img_path=Path('/content/drive/MyDrive/alzheimer-parkinson-disease')\n",
        "image_link=list(img_path.glob(r'**/*.*')) # image link\n",
        "image_Names=[x.parents[0].stem for x in image_link] #labels name\n",
        "df=pd.DataFrame(list(zip(image_link,image_Names)),columns=['Link','Name'])"
      ],
      "id": "470ce651"
    },
    {
      "cell_type": "markdown",
      "metadata": {
        "id": "6znWko3vmriC"
      },
      "source": [
        "\n",
        "\n",
        "*   Mounting Google Drive and loading the dataset\n",
        "*   Dataset comprises of 3 class and 4 class \n",
        "*   Each have labels of AD, CONTROL_AD, PD, CONTROL_PD\n",
        "*   Completely Image Based Dataset with more than 15560 images\n",
        "\n"
      ],
      "id": "6znWko3vmriC"
    },
    {
      "cell_type": "code",
      "execution_count": null,
      "metadata": {
        "colab": {
          "base_uri": "https://localhost:8080/"
        },
        "id": "0a78945b",
        "outputId": "755b3c47-6ad5-45e1-a0ca-e78677e3aef2"
      },
      "outputs": [
        {
          "data": {
            "text/plain": [
              "array(['AD', 'CONTROL', 'CONTROL_AD', 'CONTROL_PD', 'PD'], dtype=object)"
            ]
          },
          "execution_count": 4,
          "metadata": {},
          "output_type": "execute_result"
        }
      ],
      "source": [
        "np.unique(df.Name) # need to drop \"Control\" bcz of 'CONTROL_AD' & 'CONTROL_PD'"
      ],
      "id": "0a78945b"
    },
    {
      "cell_type": "code",
      "execution_count": null,
      "metadata": {
        "colab": {
          "base_uri": "https://localhost:8080/"
        },
        "id": "d45f3ed7",
        "outputId": "7a07009c-cfa7-4b32-957d-f94281c03e75"
      },
      "outputs": [
        {
          "name": "stderr",
          "output_type": "stream",
          "text": [
            "<ipython-input-5-9cb6c742fd98>:2: SettingWithCopyWarning: \n",
            "A value is trying to be set on a copy of a slice from a DataFrame.\n",
            "Try using .loc[row_indexer,col_indexer] = value instead\n",
            "\n",
            "See the caveats in the documentation: https://pandas.pydata.org/pandas-docs/stable/user_guide/indexing.html#returning-a-view-versus-a-copy\n",
            "  df['Labels']=preprocessing.LabelEncoder().fit_transform(df.Name) # create image name labels\n"
          ]
        }
      ],
      "source": [
        "df=df[df.Name!=\"CONTROL\"] # drop \"Control\"\n",
        "df['Labels']=preprocessing.LabelEncoder().fit_transform(df.Name) # create image name labels"
      ],
      "id": "d45f3ed7"
    },
    {
      "cell_type": "markdown",
      "metadata": {
        "id": "aqPMclYJnL4I"
      },
      "source": [
        "**Removing Control because it affects the accuracy by a margin of 20-30%**"
      ],
      "id": "aqPMclYJnL4I"
    },
    {
      "cell_type": "code",
      "execution_count": null,
      "metadata": {
        "colab": {
          "base_uri": "https://localhost:8080/"
        },
        "id": "fea12164",
        "outputId": "acbd5d7a-4408-4557-f1e4-745bd0a79613"
      },
      "outputs": [
        {
          "data": {
            "text/plain": [
              "array([0, 1, 2, 3])"
            ]
          },
          "execution_count": 6,
          "metadata": {},
          "output_type": "execute_result"
        }
      ],
      "source": [
        "np.unique(df.Labels) #After data set"
      ],
      "id": "fea12164"
    },
    {
      "cell_type": "markdown",
      "metadata": {
        "id": "ce7a5e9e"
      },
      "source": [
        "<h1>Plot</h1>"
      ],
      "id": "ce7a5e9e"
    },
    {
      "cell_type": "code",
      "execution_count": null,
      "metadata": {
        "colab": {
          "base_uri": "https://localhost:8080/",
          "height": 559
        },
        "id": "76ae3462",
        "outputId": "7cb81766-777f-4da4-d5b0-f246dd8e28bd"
      },
      "outputs": [
        {
          "data": {
            "text/plain": [
              "<Axes: >"
            ]
          },
          "execution_count": 7,
          "metadata": {},
          "output_type": "execute_result"
        },
        {
          "data": {
            "image/png": "[encoded data removed]",
            "text/plain": [
              "<Figure size 864x576 with 1 Axes>"
            ]
          },
          "metadata": {},
          "output_type": "display_data"
        }
      ],
      "source": [
        "df['Name'].value_counts().plot(kind='bar',figsize = (12,8), grid = True,color = 'red')"
      ],
      "id": "76ae3462"
    },
    {
      "cell_type": "markdown",
      "metadata": {
        "id": "f99cb97f"
      },
      "source": [
        "* <h2>Split labels,class and tarin,test:</h2>\n",
        "+    <h3>train Data </h3>\n",
        "+   <h3>test data</h3>"
      ],
      "id": "f99cb97f"
    },
    {
      "cell_type": "code",
      "execution_count": null,
      "metadata": {
        "id": "f41b9ab5"
      },
      "outputs": [],
      "source": [
        "x=df.Link\n",
        "y=df.Labels\n",
        "x_data,y_data=shuffle(x,y,random_state=42) #data shuffle for better result\n",
        "xtrain,xtest,ytrain,ytest=model_selection.train_test_split(x_data, y_data, test_size=0.1, random_state=42)"
      ],
      "id": "f41b9ab5"
    },
    {
      "cell_type": "markdown",
      "metadata": {
        "id": "4a4879bf"
      },
      "source": [
        "<h2>Train and Test image to data format:</h2>"
      ],
      "id": "4a4879bf"
    },
    {
      "cell_type": "code",
      "execution_count": null,
      "metadata": {
        "colab": {
          "background_save": true
        },
        "id": "f5569b03"
      },
      "outputs": [],
      "source": [
        "imsize=150\n",
        "X_train=[]\n",
        "X_test=[]\n",
        "for i in xtrain:\n",
        "    # for train\n",
        "    img_pre=cv2.imread(str(i))\n",
        "    img_pre=cv2.resize(img_pre, (imsize,imsize))\n",
        "    X_train.append(img_pre)\n",
        "    \n",
        "    \n",
        "for j in xtest:\n",
        "    # for test\n",
        "    img_pre1=cv2.imread(str(j))\n",
        "    img_pre1=cv2.resize(img_pre1, (imsize,imsize))\n",
        "    X_test.append(img_pre1)\n",
        "    \n",
        "    \n",
        "X_train=np.array(X_train)\n",
        "X_test=np.array(X_test)\n",
        "ytrain=to_categorical(ytrain)\n",
        "ytest=to_categorical(ytest)"
      ],
      "id": "f5569b03"
    },
    {
      "cell_type": "markdown",
      "metadata": {
        "id": "8280261b"
      },
      "source": [
        "__<h2>Create model with EfficientNetB7 </h2>__"
      ],
      "id": "8280261b"
    },
    {
      "cell_type": "code",
      "execution_count": null,
      "metadata": {
        "colab": {
          "background_save": true
        },
        "id": "cca4bf41",
        "outputId": "c62c2eb1-7133-4cf2-fdb5-0330cada7aa4"
      },
      "outputs": [
        {
          "name": "stdout",
          "output_type": "stream",
          "text": [
            "Downloading data from https://storage.googleapis.com/keras-applications/efficientnetb7_notop.h5\n",
            "258076736/258076736 [==============================] - 2s 0us/step\n"
          ]
        }
      ],
      "source": [
        "efficient = EfficientNetB7(weights='imagenet',include_top = False, input_shape=(imsize, imsize, 3))\n",
        "\n",
        "model = efficient.output\n",
        "model = tf.keras.layers.GlobalAveragePooling2D()(model)\n",
        "model = tf.keras.layers.Dropout(0.5)(model)\n",
        "model = tf.keras.layers.Dense(4, activation = \"softmax\")(model)\n",
        "model = tf.keras.models.Model(inputs = efficient.input , outputs = model)\n",
        "\n",
        "model.compile(loss = 'categorical_crossentropy', \n",
        "             optimizer = \"Adam\", \n",
        "              metrics=[\"accuracy\"]\n",
        "             )\n",
        "\n",
        "tensorboard = TensorBoard(log_dir=\"logs\")\n",
        "checkpoint = ModelCheckpoint(\"efficientB7.h5\", \n",
        "                            monitor='val_accuracy', \n",
        "                            mode = \"auto\", \n",
        "                            verbose = 1,\n",
        "                            save_best_only =True)\n",
        "reduce_LR = ReduceLROnPlateau(monitor=\"val_accuracy\", \n",
        "                             factor = 0.3, \n",
        "                             patience = 2, \n",
        "                             min_delta=0.001, \n",
        "                             mode = \"auto\", \n",
        "                            verbose = 1)"
      ],
      "id": "cca4bf41"
    },
    {
      "cell_type": "markdown",
      "metadata": {
        "id": "9bdd1fa3"
      },
      "source": [
        "__<h2>Fit model with EfficientNetB7 </h2>__"
      ],
      "id": "9bdd1fa3"
    },
    {
      "cell_type": "code",
      "execution_count": null,
      "metadata": {
        "id": "d19616d6"
      },
      "outputs": [],
      "source": [
        "history = model.fit(X_train, ytrain,\n",
        "                  validation_data =(X_test,ytest), \n",
        "                  epochs = 15, \n",
        "                  verbose =1, \n",
        "                  batch_size = 32, \n",
        "                  callbacks = [tensorboard, checkpoint, reduce_LR])"
      ],
      "id": "d19616d6"
    },
    {
      "cell_type": "markdown",
      "metadata": {
        "id": "f5ff3a71"
      },
      "source": [
        "__<h2>For data frame loss and accuracy</h2>__\n",
        "\n",
        "* Make data frame for df_accuracy:\n",
        "    + loss\n",
        "    + accuracy\n",
        "    + val_loss\n",
        "    + val_accuracy\n"
      ],
      "id": "f5ff3a71"
    },
    {
      "cell_type": "code",
      "execution_count": null,
      "metadata": {
        "id": "a83cedde"
      },
      "outputs": [],
      "source": [
        "df_accuracy=pd.DataFrame()\n",
        "df_accuracy['Loss']=history.history['loss']\n",
        "df_accuracy['Value Loss']=history.history['val_loss']\n",
        "df_accuracy['Accuracy']=history.history['accuracy']\n",
        "df_accuracy['Value Accuracy']=history.history['val_accuracy']\n",
        "\n",
        "df_accuracy"
      ],
      "id": "a83cedde"
    },
    {
      "cell_type": "markdown",
      "metadata": {
        "id": "f5f2f11e"
      },
      "source": [
        "__<h2>Plot for best performance with EfficientNetB7 </h2>__"
      ],
      "id": "f5f2f11e"
    },
    {
      "cell_type": "code",
      "execution_count": null,
      "metadata": {
        "id": "db6693be"
      },
      "outputs": [],
      "source": [
        "df_accuracy.sort_values('Loss',ascending=False).head(1).plot(kind='bar',figsize = (12,8))"
      ],
      "id": "db6693be"
    },
    {
      "cell_type": "markdown",
      "metadata": {
        "id": "5aed157b"
      },
      "source": [
        "__<h2>Visualization for accuracy</h2>__"
      ],
      "id": "5aed157b"
    },
    {
      "cell_type": "code",
      "execution_count": null,
      "metadata": {
        "id": "e06b0b26"
      },
      "outputs": [],
      "source": [
        "def plot_hist(hist):\n",
        "    plt.plot(hist.history[\"accuracy\"])\n",
        "    plt.plot(hist.history[\"val_accuracy\"])\n",
        "    plt.title(\"Model Accuracy\")\n",
        "    plt.ylabel(\"accuracy\")\n",
        "    plt.xlabel(\"epoch\")\n",
        "    plt.legend([\"train\", \"validation\"], loc=\"upper left\")\n",
        "    plt.show()\n",
        "\n",
        "plot_hist(history)"
      ],
      "id": "e06b0b26"
    },
    {
      "cell_type": "markdown",
      "metadata": {
        "id": "5527d92d"
      },
      "source": [
        "__<h2>Visualization for loss</h2>__"
      ],
      "id": "5527d92d"
    },
    {
      "cell_type": "code",
      "execution_count": null,
      "metadata": {
        "id": "4135be0a"
      },
      "outputs": [],
      "source": [
        "def plot_hist(hist):\n",
        "    plt.plot(hist.history[\"loss\"])\n",
        "    plt.plot(hist.history[\"val_loss\"])\n",
        "    plt.title(\"Model Loss\")\n",
        "    plt.ylabel(\"Loss\")\n",
        "    plt.xlabel(\"epoch\")\n",
        "    plt.legend([\"loss\", \"value Loss\"], loc=\"upper left\")\n",
        "    plt.show()\n",
        "\n",
        "\n",
        "plot_hist(history)"
      ],
      "id": "4135be0a"
    }
  ],
  "metadata": {
    "colab": {
      "provenance": []
    },
    "gpuClass": "standard",
    "kernelspec": {
      "display_name": "Python 3",
      "language": "python",
      "name": "python3"
    },
    "language_info": {
      "codemirror_mode": {
        "name": "ipython",
        "version": 3
      },
      "file_extension": ".py",
      "mimetype": "text/x-python",
      "name": "python",
      "nbconvert_exporter": "python",
      "pygments_lexer": "ipython3",
      "version": "3.7.12"
    },
    "papermill": {
      "default_parameters": {},
      "duration": 3252.08849,
      "end_time": "2022-09-29T10:09:55.165062",
      "environment_variables": {},
      "exception": null,
      "input_path": "__notebook__.ipynb",
      "output_path": "__notebook__.ipynb",
      "parameters": {},
      "start_time": "2022-09-29T09:15:43.076572",
      "version": "2.3.4"
    }
  },
  "nbformat": 4,
  "nbformat_minor": 5
}